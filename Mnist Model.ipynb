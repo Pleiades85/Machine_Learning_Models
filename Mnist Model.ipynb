{
 "cells": [
  {
   "cell_type": "markdown",
   "id": "f8492296-7db5-4fb7-aeda-145c5302a4b8",
   "metadata": {},
   "source": [
    "## Importing Required Dependencies"
   ]
  },
  {
   "cell_type": "code",
   "execution_count": 1,
   "id": "a19145e1-9b70-4dca-8e24-ab22461faffc",
   "metadata": {},
   "outputs": [],
   "source": [
    "import matplotlib.pyplot as plt\n",
    "from sklearn.metrics import confusion_matrix\n",
    "from sklearn.linear_model import SGDClassifier\n",
    "from sklearn.model_selection import cross_val_score,cross_val_predict\n",
    "from sklearn.svm import SVC\n"
   ]
  },
  {
   "cell_type": "markdown",
   "id": "c41f840e-6a15-4014-a8b1-c7b544fe3f5a",
   "metadata": {},
   "source": [
    "## Loading the Dataset"
   ]
  },
  {
   "cell_type": "code",
   "execution_count": 2,
   "id": "b1be8ff3-d688-4ca7-b539-f5b94bad7779",
   "metadata": {},
   "outputs": [],
   "source": [
    "from sklearn.datasets import fetch_openml\n"
   ]
  },
  {
   "cell_type": "code",
   "execution_count": 3,
   "id": "d08f1f86-674b-4d83-8a39-5d45c13a30d4",
   "metadata": {},
   "outputs": [
    {
     "name": "stderr",
     "output_type": "stream",
     "text": [
      "C:\\Users\\dhyey\\anaconda3\\Lib\\site-packages\\sklearn\\datasets\\_openml.py:968: FutureWarning: The default value of `parser` will change from `'liac-arff'` to `'auto'` in 1.4. You can set `parser='auto'` to silence this warning. Therefore, an `ImportError` will be raised from 1.4 if the dataset is dense and pandas is not installed. Note that the pandas parser may return different data types. See the Notes Section in fetch_openml's API doc for details.\n",
      "  warn(\n"
     ]
    }
   ],
   "source": [
    "\n",
    "mnist=fetch_openml('mnist_784',as_frame=False)"
   ]
  },
  {
   "cell_type": "markdown",
   "id": "519b44eb-30dc-4d66-bccb-33aad65a27dd",
   "metadata": {},
   "source": [
    "## Exploratory Data Analysis"
   ]
  },
  {
   "cell_type": "code",
   "execution_count": 4,
   "id": "2516de9b-cb13-48c7-b7f6-8ed44e1b8d3e",
   "metadata": {},
   "outputs": [
    {
     "name": "stdout",
     "output_type": "stream",
     "text": [
      "[[0. 0. 0. ... 0. 0. 0.]\n",
      " [0. 0. 0. ... 0. 0. 0.]\n",
      " [0. 0. 0. ... 0. 0. 0.]\n",
      " ...\n",
      " [0. 0. 0. ... 0. 0. 0.]\n",
      " [0. 0. 0. ... 0. 0. 0.]\n",
      " [0. 0. 0. ... 0. 0. 0.]]\n"
     ]
    }
   ],
   "source": [
    "print(mnist.data)"
   ]
  },
  {
   "cell_type": "code",
   "execution_count": 5,
   "id": "7f533dd1-375d-408a-8eaf-ba5afbf2d13e",
   "metadata": {},
   "outputs": [
    {
     "name": "stdout",
     "output_type": "stream",
     "text": [
      "[[0. 0. 0. ... 0. 0. 0.]\n",
      " [0. 0. 0. ... 0. 0. 0.]\n",
      " [0. 0. 0. ... 0. 0. 0.]\n",
      " ...\n",
      " [0. 0. 0. ... 0. 0. 0.]\n",
      " [0. 0. 0. ... 0. 0. 0.]\n",
      " [0. 0. 0. ... 0. 0. 0.]]\n"
     ]
    }
   ],
   "source": [
    "print(mnist.data)"
   ]
  },
  {
   "cell_type": "code",
   "execution_count": 6,
   "id": "136c4b5b-42d5-44df-b01a-b3ec027563a4",
   "metadata": {},
   "outputs": [
    {
     "name": "stdout",
     "output_type": "stream",
     "text": [
      "['5' '0' '4' ... '4' '5' '6']\n"
     ]
    }
   ],
   "source": [
    "print(mnist.target)"
   ]
  },
  {
   "cell_type": "code",
   "execution_count": 7,
   "id": "31ba7f87-2af2-44ef-a7f3-44524f78214b",
   "metadata": {},
   "outputs": [
    {
     "name": "stdout",
     "output_type": "stream",
     "text": [
      "['5' '0' '4' ... '4' '5' '6']\n"
     ]
    }
   ],
   "source": [
    "print(mnist.target)"
   ]
  },
  {
   "cell_type": "code",
   "execution_count": 8,
   "id": "016e336d-41bd-4182-a16a-fad19023971c",
   "metadata": {},
   "outputs": [],
   "source": [
    "x=mnist.data\n",
    "y=mnist.target\n"
   ]
  },
  {
   "cell_type": "code",
   "execution_count": 9,
   "id": "2c32de27-0e2f-4d8f-ad88-266b9609f8f7",
   "metadata": {},
   "outputs": [
    {
     "data": {
      "image/png": "[encoded data removed]",
      "text/plain": [
       "<Figure size 640x480 with 1 Axes>"
      ]
     },
     "metadata": {},
     "output_type": "display_data"
    }
   ],
   "source": [
    "plt.imshow(x[350].reshape(28,28),cmap='binary')\n",
    "plt.axis(\"off\")\n",
    "plt.show()"
   ]
  },
  {
   "cell_type": "code",
   "execution_count": 10,
   "id": "1b679846-603f-424e-ac08-3116bf642329",
   "metadata": {},
   "outputs": [
    {
     "name": "stdout",
     "output_type": "stream",
     "text": [
      "[[  0.   0.   0.   0.   0.   0.   0.   0.   0.   0.   0.   0.   0.   0.\n",
      "    0.   0.   0.   0.   0.   0.   0.   0.   0.   0.   0.   0.   0.   0.]\n",
      " [  0.   0.   0.   0.   0.   0.   0.   0.   0.   0.   0.   0.   0.   0.\n",
      "    0.   0.   0.   0.   0.   0.   0.   0.   0.   0.   0.   0.   0.   0.]\n",
      " [  0.   0.   0.   0.   0.   0.   0.   0.   0.   0.   0.   0.   0.   0.\n",
      "    0.   0.   0.   0.   0.   0.   0.   0.   0.   0.   0.   0.   0.   0.]\n",
      " [  0.   0.   0.   0.   0.   0.   0.   0.   0.   0.   0.   0.   0.   0.\n",
      "    0.   0.   0.   0.   0.   0.   0.   0.   0.   0.   0.   0.   0.   0.]\n",
      " [  0.   0.   0.   0.   0.   0.   0.   0.   0.   0.   0.   0.   0.   0.\n",
      "    0.   0.   0.   0.   0.   0.   0.   0.   0.   0.   0.   0.   0.   0.]\n",
      " [  0.   0.   0.   0.   0.   0.   0.   0.   0.   0.   0.   0.   0.   0.\n",
      "    0.   0.   0.   0.   0.   0.   0.   0.   0.   0.   0.   0.   0.   0.]\n",
      " [  0.   0.   0.   0.   0.   0.   0.   0.   0.   0.   0.   6.  67. 239.\n",
      "  255. 253. 253.  25.   0.   0.   0.   0.   0.   0.   0.   0.   0.   0.]\n",
      " [  0.   0.   0.   0.   0.   0.   0.   0.   0.   0.  32. 147. 252. 252.\n",
      "  253. 252. 252. 203.  23.   0.   0.   0.   0.   0.   0.   0.   0.   0.]\n",
      " [  0.   0.   0.   0.   0.   0.   0.   0.   0.   0. 164. 252. 252. 209.\n",
      "   92. 146. 252. 252. 130.   0.   0.   0.   0.   0.   0.   0.   0.   0.]\n",
      " [  0.   0.   0.   0.   0.   0.   0.   0.   0. 190. 251. 248. 116.   6.\n",
      "    0.  32. 220. 252. 197.   0.   0.   0.   0.   0.   0.   0.   0.   0.]\n",
      " [  0.   0.   0.   0.   0.   0.   0.   0.  37. 234. 252. 184.   0.   0.\n",
      "    0.   0.  78. 250. 233.  36.   0.   0.   0.   0.   0.   0.   0.   0.]\n",
      " [  0.   0.   0.   0.   0.   0.   0.   0.  94. 252. 205.  22.   0.   0.\n",
      "    0.   0.   0. 242. 252.  55.   0.   0.   0.   0.   0.   0.   0.   0.]\n",
      " [  0.   0.   0.   0.   0.   0.   0.   0. 165. 252. 131.   0.   0.   0.\n",
      "    0.   3. 146. 251. 250.  52.   0.   0.   0.   0.   0.   0.   0.   0.]\n",
      " [  0.   0.   0.   0.   0.   0.   0.   0. 165. 252.  64.   0.   0.   0.\n",
      "    6.  99. 252. 252. 178.   0.   0.   0.   0.   0.   0.   0.   0.   0.]\n",
      " [  0.   0.   0.   0.   0.   0.   0.   0. 165. 252.  21.   0.   0.   0.\n",
      "  148. 252. 252. 252.  88.   0.   0.   0.   0.   0.   0.   0.   0.   0.]\n",
      " [  0.   0.   0.   0.   0.   0.   0.   0. 165. 252. 165.  20. 111. 206.\n",
      "  253. 252. 252. 243.  50.   0.   0.   0.   0.   0.   0.   0.   0.   0.]\n",
      " [  0.   0.   0.   0.   0.   0.   0.   0.  97. 246. 253. 253. 253. 253.\n",
      "  236. 243. 253. 231.   0.   0.   0.   0.   0.   0.   0.   0.   0.   0.]\n",
      " [  0.   0.   0.   0.   0.   0.   0.   0.   0. 146. 247. 241. 186. 138.\n",
      "   34. 176. 252. 201.   0.   0.   0.   0.   0.   0.   0.   0.   0.   0.]\n",
      " [  0.   0.   0.   0.   0.   0.   0.   0.   0.   0.  40.  36.   0.   0.\n",
      "    0. 176. 252. 121.   0.   0.   0.   0.   0.   0.   0.   0.   0.   0.]\n",
      " [  0.   0.   0.   0.   0.   0.   0.   0.   0.   0.   0.   0.   0.   0.\n",
      "   32. 249. 252. 121.   0.   0.   0.   0.   0.   0.   0.   0.   0.   0.]\n",
      " [  0.   0.   0.   0.   0.   0.   0.   0.   0.   0.   0.   0.   0.   0.\n",
      "   19. 219. 252. 121.   0.   0.   0.   0.   0.   0.   0.   0.   0.   0.]\n",
      " [  0.   0.   0.   0.   0.   0.   0.   0.   0.   0.   0.   0.   0.   0.\n",
      "   19. 219. 252. 121.   0.   0.   0.   0.   0.   0.   0.   0.   0.   0.]\n",
      " [  0.   0.   0.   0.   0.   0.   0.   0.   0.   0.   0.   0.   0.   0.\n",
      "   19. 219. 252. 127.   4.   0.   0.   0.   0.   0.   0.   0.   0.   0.]\n",
      " [  0.   0.   0.   0.   0.   0.   0.   0.   0.   0.   0.   0.   0.   0.\n",
      "   34. 252. 252. 252.  88.   0.   0.   0.   0.   0.   0.   0.   0.   0.]\n",
      " [  0.   0.   0.   0.   0.   0.   0.   0.   0.   0.   0.   0.   0.   0.\n",
      "   34. 252. 252. 202.  23.   0.   0.   0.   0.   0.   0.   0.   0.   0.]\n",
      " [  0.   0.   0.   0.   0.   0.   0.   0.   0.   0.   0.   0.   0.   0.\n",
      "    5. 138. 252.  24.   0.   0.   0.   0.   0.   0.   0.   0.   0.   0.]\n",
      " [  0.   0.   0.   0.   0.   0.   0.   0.   0.   0.   0.   0.   0.   0.\n",
      "    0.   0.   0.   0.   0.   0.   0.   0.   0.   0.   0.   0.   0.   0.]\n",
      " [  0.   0.   0.   0.   0.   0.   0.   0.   0.   0.   0.   0.   0.   0.\n",
      "    0.   0.   0.   0.   0.   0.   0.   0.   0.   0.   0.   0.   0.   0.]]\n"
     ]
    }
   ],
   "source": [
    "print(x[350].reshape(28,28))"
   ]
  },
  {
   "cell_type": "markdown",
   "id": "8de31973-e932-4a1f-8b38-971df664f046",
   "metadata": {},
   "source": [
    "## Training and Evaluating Models"
   ]
  },
  {
   "cell_type": "code",
   "execution_count": 11,
   "id": "fa50bb81-6a28-4dfd-8af1-c1219ba1b74f",
   "metadata": {},
   "outputs": [],
   "source": [
    "x_train=x[:60000]\n",
    "y_train=y[:60000]\n",
    "x_test=x[60000:]\n",
    "y_test=y[60000:]"
   ]
  },
  {
   "cell_type": "code",
   "execution_count": 12,
   "id": "275ab256-a355-488f-996c-db154ef87499",
   "metadata": {},
   "outputs": [],
   "source": [
    "y_train_5=(y_train=='5')\n",
    "y_test_5=(y_test=='5')\n"
   ]
  },
  {
   "cell_type": "code",
   "execution_count": 13,
   "id": "32184931-2a29-419e-a5a4-a09cd5a364bc",
   "metadata": {},
   "outputs": [
    {
     "data": {
      "text/plain": [
       "array([ True])"
      ]
     },
     "execution_count": 13,
     "metadata": {},
     "output_type": "execute_result"
    }
   ],
   "source": [
    "sgd_clf = SGDClassifier(random_state=42)\n",
    "sgd_clf.fit(x_train, y_train_5)\n",
    "\n",
    "sgd_clf.predict([x[0]])\n"
   ]
  },
  {
   "cell_type": "code",
   "execution_count": 14,
   "id": "5fd0ab6c-dee1-4779-b011-2fb1097a0176",
   "metadata": {},
   "outputs": [
    {
     "data": {
      "text/plain": [
       "array([ True])"
      ]
     },
     "execution_count": 14,
     "metadata": {},
     "output_type": "execute_result"
    }
   ],
   "source": [
    "sgd_clf.predict([x[0]])"
   ]
  },
  {
   "cell_type": "code",
   "execution_count": 15,
   "id": "90910b6f-9c07-430f-939c-8bf46fc86bc1",
   "metadata": {},
   "outputs": [],
   "source": []
  },
  {
   "cell_type": "code",
   "execution_count": 16,
   "id": "7d3af74f-4aab-4ce8-98a6-1b5f4c3d6c98",
   "metadata": {},
   "outputs": [
    {
     "data": {
      "text/plain": [
       "array([ True, False, False, ...,  True, False, False])"
      ]
     },
     "execution_count": 16,
     "metadata": {},
     "output_type": "execute_result"
    }
   ],
   "source": [
    "cross_val_predict(sgd_clf,x_train,y_train_5,cv=3)"
   ]
  },
  {
   "cell_type": "code",
   "execution_count": 17,
   "id": "8cc98263-7ef1-41e0-9646-9a0e40ec9839",
   "metadata": {},
   "outputs": [],
   "source": [
    "y_train_pred=cross_val_predict(sgd_clf,x_train,y_train_5,cv=3)"
   ]
  },
  {
   "cell_type": "code",
   "execution_count": 18,
   "id": "09828775-ecbc-4273-9632-a0ae399a37cc",
   "metadata": {},
   "outputs": [
    {
     "data": {
      "text/plain": [
       "array([[54579,     0],\n",
       "       [    0,  5421]], dtype=int64)"
      ]
     },
     "execution_count": 18,
     "metadata": {},
     "output_type": "execute_result"
    }
   ],
   "source": [
    "confusion_matrix(y_train_5,y_train_5)"
   ]
  },
  {
   "cell_type": "code",
   "execution_count": 19,
   "id": "a176218f-9339-4d65-96cd-1c04694bc1ff",
   "metadata": {},
   "outputs": [],
   "source": []
  },
  {
   "cell_type": "code",
   "execution_count": 20,
   "id": "d16545d4-25fe-478c-94ab-0b782acbe29c",
   "metadata": {},
   "outputs": [],
   "source": [
    "cv=SVC(random_state=42).fit(x_train[:2000],y_train[:2000])"
   ]
  },
  {
   "cell_type": "code",
   "execution_count": 21,
   "id": "8cbabd86-6cc3-4599-a360-8682a128861a",
   "metadata": {},
   "outputs": [
    {
     "data": {
      "text/plain": [
       "array(['9'], dtype=object)"
      ]
     },
     "execution_count": 21,
     "metadata": {},
     "output_type": "execute_result"
    }
   ],
   "source": [
    "cv.predict([x[350]])"
   ]
  },
  {
   "cell_type": "code",
   "execution_count": 22,
   "id": "886894f8-d4c7-4c25-91b9-b2c6c76d94fe",
   "metadata": {},
   "outputs": [
    {
     "name": "stdout",
     "output_type": "stream",
     "text": [
      "['0' '1' '2' '3' '4' '5' '6' '7' '8' '9']\n"
     ]
    }
   ],
   "source": [
    "print(cv.classes_)"
   ]
  }
 ],
 "metadata": {
  "kernelspec": {
   "display_name": "Python 3 (ipykernel)",
   "language": "python",
   "name": "python3"
  },
  "language_info": {
   "codemirror_mode": {
    "name": "ipython",
    "version": 3
   },
   "file_extension": ".py",
   "mimetype": "text/x-python",
   "name": "python",
   "nbconvert_exporter": "python",
   "pygments_lexer": "ipython3",
   "version": "3.11.7"
  }
 },
 "nbformat": 4,
 "nbformat_minor": 5
}
